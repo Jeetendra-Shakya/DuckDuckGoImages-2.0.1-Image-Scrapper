{
 "cells": [
  {
   "cell_type": "code",
   "execution_count": 1,
   "metadata": {
    "scrolled": true
   },
   "outputs": [
    {
     "name": "stdout",
     "output_type": "stream",
     "text": [
      "Collecting DuckDuckGoImages\n",
      "  Downloading DuckDuckGoImages-2.0.1-py3-none-any.whl (4.0 kB)\n",
      "Requirement already satisfied: Pillow>=2.2.1 in d:\\software\\anaconda3\\lib\\site-packages (from DuckDuckGoImages) (8.0.1)\n",
      "Requirement already satisfied: requests>=2.24.0 in d:\\software\\anaconda3\\lib\\site-packages (from DuckDuckGoImages) (2.24.0)\n",
      "Requirement already satisfied: joblib>=0.16.0 in d:\\software\\anaconda3\\lib\\site-packages (from DuckDuckGoImages) (0.17.0)\n",
      "Requirement already satisfied: certifi>=2017.4.17 in d:\\software\\anaconda3\\lib\\site-packages (from requests>=2.24.0->DuckDuckGoImages) (2020.12.5)\n",
      "Requirement already satisfied: idna<3,>=2.5 in d:\\software\\anaconda3\\lib\\site-packages (from requests>=2.24.0->DuckDuckGoImages) (2.10)\n",
      "Requirement already satisfied: chardet<4,>=3.0.2 in d:\\software\\anaconda3\\lib\\site-packages (from requests>=2.24.0->DuckDuckGoImages) (3.0.4)\n",
      "Requirement already satisfied: urllib3!=1.25.0,!=1.25.1,<1.26,>=1.21.1 in d:\\software\\anaconda3\\lib\\site-packages (from requests>=2.24.0->DuckDuckGoImages) (1.25.11)\n",
      "Installing collected packages: DuckDuckGoImages\n",
      "Successfully installed DuckDuckGoImages-2.0.1\n",
      "Note: you may need to restart the kernel to use updated packages.\n"
     ]
    }
   ],
   "source": [
    "pip install DuckDuckGoImages"
   ]
  },
  {
   "cell_type": "code",
   "execution_count": 1,
   "metadata": {},
   "outputs": [],
   "source": [
    "import DuckDuckGoImages as ddg"
   ]
  },
  {
   "cell_type": "code",
   "execution_count": 6,
   "metadata": {},
   "outputs": [
    {
     "data": {
      "text/plain": [
       "865"
      ]
     },
     "execution_count": 6,
     "metadata": {},
     "output_type": "execute_result"
    }
   ],
   "source": [
    "# This will create pot_hole folder and search for 'pot hole' in internet\n",
    "\n",
    "ddg.download('pot hole', folder='pot_hole')"
   ]
  },
  {
   "cell_type": "code",
   "execution_count": 8,
   "metadata": {},
   "outputs": [],
   "source": [
    "# To rename all files from randomic UUIDv4 name to custom name \n",
    "import os\n",
    "import glob\n",
    "\n",
    "path = 'D:\\\\Jitendra\\\\FullStack\\\\pot_hole'\n",
    "f_name = 'pot_hole'\n",
    "\n",
    "file_num = 0\n",
    "for filename in glob.glob(os.path.join(path, '*.jpg')):\n",
    "    os.rename(filename, path + '\\\\' + f_name + str(file_num) + '.jpg')\n",
    "    file_num += 1"
   ]
  },
  {
   "cell_type": "code",
   "execution_count": null,
   "metadata": {},
   "outputs": [],
   "source": []
  }
 ],
 "metadata": {
  "kernelspec": {
   "display_name": "Python 3",
   "language": "python",
   "name": "python3"
  },
  "language_info": {
   "codemirror_mode": {
    "name": "ipython",
    "version": 3
   },
   "file_extension": ".py",
   "mimetype": "text/x-python",
   "name": "python",
   "nbconvert_exporter": "python",
   "pygments_lexer": "ipython3",
   "version": "3.8.5"
  }
 },
 "nbformat": 4,
 "nbformat_minor": 4
}
